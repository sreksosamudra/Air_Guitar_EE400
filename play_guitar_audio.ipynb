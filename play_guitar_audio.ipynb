{
 "cells": [
  {
   "cell_type": "code",
   "execution_count": 3,
   "id": "bd72fce0",
   "metadata": {},
   "outputs": [],
   "source": [
    "import simpleaudio as sa"
   ]
  },
  {
   "cell_type": "code",
   "execution_count": 8,
   "id": "941076bf",
   "metadata": {},
   "outputs": [],
   "source": [
    "# Create file path based on the chord we read\n",
    "def create_file_path(input_string):\n",
    "    variable = f\"chord_recordings/{input_string}.wav\"  # NOTE: need to update file path on your laptop\n",
    "    return variable"
   ]
  },
  {
   "cell_type": "code",
   "execution_count": 9,
   "id": "31df9a89",
   "metadata": {},
   "outputs": [
    {
     "name": "stdout",
     "output_type": "stream",
     "text": [
      "chord_recordings/a.wav\n"
     ]
    }
   ],
   "source": [
    "# Example\n",
    "input_string = 'a'\n",
    "\n",
    "# Define the file you want to play\n",
    "wav_file = create_file_path(input_string)\n",
    "\n",
    "print(wav_file)"
   ]
  },
  {
   "cell_type": "code",
   "execution_count": null,
   "id": "bf07cd83",
   "metadata": {},
   "outputs": [],
   "source": [
    "# Load and play the WAV file\n",
    "wave_obj = sa.WaveObject.from_wave_file(wav_file)\n",
    "play_obj = wave_obj.play()\n",
    "play_obj.wait_done()  # Wait until sound has finished playing"
   ]
  }
 ],
 "metadata": {
  "kernelspec": {
   "display_name": "Python 3 (ipykernel)",
   "language": "python",
   "name": "python3"
  },
  "language_info": {
   "codemirror_mode": {
    "name": "ipython",
    "version": 3
   },
   "file_extension": ".py",
   "mimetype": "text/x-python",
   "name": "python",
   "nbconvert_exporter": "python",
   "pygments_lexer": "ipython3",
   "version": "3.9.12"
  }
 },
 "nbformat": 4,
 "nbformat_minor": 5
}
